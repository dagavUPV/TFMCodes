{
  "cells": [
    {
      "cell_type": "markdown",
      "metadata": {
        "id": "8Qc8sH0lLX5W"
      },
      "source": [
        "https://colab.research.google.com/github/google-coral/tutorials/blob/master/retrain_efficientdet_model_maker_tf2.ipynb"
      ]
    },
    {
      "cell_type": "code",
      "execution_count": null,
      "metadata": {
        "id": "5Qc8b2R-LaOT"
      },
      "outputs": [],
      "source": [
        "#Not working now\n",
        "#!pip install -q tflite-model-maker"
      ]
    },
    {
      "cell_type": "code",
      "execution_count": null,
      "metadata": {
        "id": "gwqng4RSV3HK"
      },
      "outputs": [],
      "source": [
        "#https://www.reddit.com/r/tensorflow/comments/wl1pj3/colab_tflitemodelmaker_taking_ages_to_load/\n",
        "!git clone https://github.com/tensorflow/examples\n",
        "%cd examples/tensorflow_examples/lite/model_maker/pip_package\n",
        "!pip install -e ."
      ]
    },
    {
      "cell_type": "code",
      "execution_count": null,
      "metadata": {
        "id": "zeb-n7DtVez_"
      },
      "outputs": [],
      "source": [
        "!apt-get install libportaudio2"
      ]
    },
    {
      "cell_type": "code",
      "execution_count": null,
      "metadata": {
        "id": "8SWkRLNWLjXc"
      },
      "outputs": [],
      "source": [
        "import numpy as np\n",
        "import os\n",
        "\n",
        "from tflite_model_maker.config import ExportFormat\n",
        "from tflite_model_maker import model_spec\n",
        "from tflite_model_maker import object_detector\n",
        "\n",
        "import tensorflow as tf\n",
        "assert tf.__version__.startswith('2')\n",
        "\n",
        "tf.get_logger().setLevel('ERROR')\n",
        "from absl import logging\n",
        "logging.set_verbosity(logging.ERROR)"
      ]
    },
    {
      "cell_type": "code",
      "execution_count": null,
      "metadata": {
        "id": "7r-QAgh0CLuX"
      },
      "outputs": [],
      "source": [
        "from google.colab import drive\n",
        "drive.mount('/content/drive')"
      ]
    },
    {
      "cell_type": "code",
      "execution_count": null,
      "metadata": {
        "id": "IqzHX7TOLyjt"
      },
      "outputs": [],
      "source": [
        "# Your labels map as a dictionary (zero is reserved):\n",
        "label_map = {1: 'stop', 2: 'trafficlight', 3: 'crosswalk', 4: 'speedlimit50', 5: 'speedlimit60', 6: 'speedlimit70', 7: 'speedlimit80', 8: 'speedlimit90'}\n",
        "#label_map = {1: 'stop' , 2: 'velocidad30', 3: 'velocidad10', 4: 'semaforoRojo', 5: 'semaforoVerde'}\n",
        "\n",
        "train_images_dir = '/content/drive/MyDrive/tfm/signs_picar/train/images'\n",
        "train_annotations_dir = '/content/drive/MyDrive/tfm/signs_picar/train/annotations'\n",
        "val_images_dir = '/content/drive/MyDrive/tfm/signs_picar/validation/images'\n",
        "val_annotations_dir = '/content/drive/MyDrive/tfm/signs_picar/validation/annotations'\n",
        "test_images_dir = '/content/drive/MyDrive/tfm/signs_picar/test/images'\n",
        "test_annotations_dir = '/content/drive/MyDrive/tfm/signs_picar/test/annotations'\n",
        "\n",
        "#road307"
      ]
    },
    {
      "cell_type": "code",
      "execution_count": null,
      "metadata": {
        "id": "AoM3r3MlP9R_"
      },
      "outputs": [],
      "source": [
        "validation_data = object_detector.DataLoader.from_pascal_voc(val_images_dir, val_annotations_dir, label_map=label_map)\n",
        "\n",
        "test_data = object_detector.DataLoader.from_pascal_voc(test_images_dir, test_annotations_dir, label_map=label_map)\n",
        "\n",
        "train_data = object_detector.DataLoader.from_pascal_voc(train_images_dir, train_annotations_dir, label_map=label_map)\n",
        "\n",
        "print(f'train count: {len(train_data)}')\n",
        "print(f'validation count: {len(validation_data)}')\n",
        "print(f'test count: {len(test_data)}')"
      ]
    },
    {
      "cell_type": "code",
      "execution_count": null,
      "metadata": {
        "id": "6MrTnZXvQA4r"
      },
      "outputs": [],
      "source": [
        "spec = object_detector.EfficientDetLite1Spec()"
      ]
    },
    {
      "cell_type": "code",
      "execution_count": null,
      "metadata": {
        "id": "i4yh5N1fTCDf"
      },
      "outputs": [],
      "source": [
        "model = object_detector.create(train_data=train_data, \n",
        "                               model_spec=spec, \n",
        "                               validation_data=validation_data, \n",
        "                               epochs=50, \n",
        "                               batch_size=10, \n",
        "                               train_whole_model=True)"
      ]
    },
    {
      "cell_type": "code",
      "execution_count": null,
      "metadata": {
        "id": "xV6sA6bWlGu9"
      },
      "outputs": [],
      "source": [
        "model.evaluate(test_data)"
      ]
    },
    {
      "cell_type": "code",
      "execution_count": null,
      "metadata": {
        "id": "pJDcophxZ6Aq"
      },
      "outputs": [],
      "source": [
        "TFLITE_FILENAME = 'efficientdet-lite-car_signs-eDet1.tflite'\n",
        "LABELS_FILENAME = 'car_signs-labels-eDet1.txt'\n",
        "\n",
        "model.export(export_dir='/content/drive/MyDrive/tfm/', tflite_filename=TFLITE_FILENAME, label_filename=LABELS_FILENAME,\n",
        "             export_format=[ExportFormat.TFLITE, ExportFormat.LABEL])"
      ]
    },
    {
      "cell_type": "code",
      "execution_count": null,
      "metadata": {
        "id": "ZVMSj9ZdaxMY"
      },
      "outputs": [],
      "source": [
        "model.evaluate_tflite('/content/drive/MyDrive/tfm/efficientdet-lite-car_signs-eDet1.tflite', test_data)"
      ]
    },
    {
      "cell_type": "code",
      "execution_count": null,
      "metadata": {
        "id": "k5bzp7bKbO1T"
      },
      "outputs": [],
      "source": [
        "import random\n",
        "\n",
        "images_path = test_images_dir\n",
        "filenames = os.listdir(os.path.join(images_path))\n",
        "random_index = random.randint(0,len(filenames)-1)\n",
        "INPUT_IMAGE = os.path.join(images_path, filenames[random_index])"
      ]
    },
    {
      "cell_type": "code",
      "execution_count": null,
      "metadata": {
        "id": "92WHotTdbX7t"
      },
      "outputs": [],
      "source": [
        "! python3 -m pip install --extra-index-url https://google-coral.github.io/py-repo/ pycoral"
      ]
    },
    {
      "cell_type": "code",
      "execution_count": null,
      "metadata": {
        "id": "ipMOvRPSbYtj"
      },
      "outputs": [],
      "source": [
        "from PIL import Image\n",
        "from PIL import ImageDraw\n",
        "from PIL import ImageFont\n",
        "\n",
        "import tflite_runtime.interpreter as tflite \n",
        "from pycoral.adapters import common\n",
        "from pycoral.adapters import detect\n",
        "from pycoral.utils.dataset import read_label_file\n",
        "\n",
        "def draw_objects(draw, objs, scale_factor, labels):\n",
        "  \"\"\"Draws the bounding box and label for each object.\"\"\"\n",
        "  COLORS = np.random.randint(0, 255, size=(len(labels), 3), dtype=np.uint8)\n",
        "  for obj in objs:\n",
        "    bbox = obj.bbox\n",
        "    color = tuple(int(c) for c in COLORS[obj.id])\n",
        "    draw.rectangle([(bbox.xmin * scale_factor, bbox.ymin * scale_factor),\n",
        "                    (bbox.xmax * scale_factor, bbox.ymax * scale_factor)],\n",
        "                   outline=color, width=3)\n",
        "    font = ImageFont.truetype(\"LiberationSans-Regular.ttf\", size=15)\n",
        "    draw.text((bbox.xmin * scale_factor + 4, bbox.ymin * scale_factor + 4),\n",
        "              '%s\\n%.2f' % (labels.get(obj.id, obj.id), obj.score),\n",
        "              fill=color, font=font)\n",
        "\n",
        "# Load the TF Lite model\n",
        "labels = read_label_file('/content/drive/MyDrive/tfm/car_signs-labels-eDet1.txt')\n",
        "interpreter = tflite.Interpreter('/content/drive/MyDrive/tfm/efficientdet-lite-car_signs-eDet1.tflite')\n",
        "interpreter.allocate_tensors()\n",
        "\n",
        "# Resize the image for input\n",
        "image = Image.open(INPUT_IMAGE)\n",
        "_, scale = common.set_resized_input(\n",
        "    interpreter, image.size, lambda size: image.resize(size, Image.ANTIALIAS))\n",
        "\n",
        "# Run inference\n",
        "interpreter.invoke()\n",
        "objs = detect.get_objects(interpreter, score_threshold=0.4, image_scale=scale)\n",
        "\n",
        "# Resize again to a reasonable size for display\n",
        "display_width = 500\n",
        "scale_factor = display_width / image.width\n",
        "height_ratio = image.height / image.width\n",
        "image = image.resize((display_width, int(display_width * height_ratio)))\n",
        "draw_objects(ImageDraw.Draw(image), objs, scale_factor, labels)\n",
        "image"
      ]
    },
    {
      "cell_type": "code",
      "execution_count": null,
      "metadata": {
        "id": "sdszd83-b8AI"
      },
      "outputs": [],
      "source": [
        "! curl https://packages.cloud.google.com/apt/doc/apt-key.gpg | sudo apt-key add -\n",
        "\n",
        "! echo \"deb https://packages.cloud.google.com/apt coral-edgetpu-stable main\" | sudo tee /etc/apt/sources.list.d/coral-edgetpu.list\n",
        "\n",
        "! sudo apt-get update\n",
        "\n",
        "! sudo apt-get install edgetpu-compiler"
      ]
    },
    {
      "cell_type": "code",
      "execution_count": null,
      "metadata": {
        "id": "jY1Gbc0rcH7s"
      },
      "outputs": [],
      "source": [
        "NUMBER_OF_TPUS = 1\n",
        "!edgetpu_compiler '/content/drive/MyDrive/tfm/efficientdet-lite-car_signs-eDet1.tflite' -d --num_segments=$NUMBER_OF_TPUS"
      ]
    }
  ],
  "metadata": {
    "accelerator": "GPU",
    "colab": {
      "collapsed_sections": [],
      "provenance": []
    },
    "gpuClass": "standard",
    "kernelspec": {
      "display_name": "Python 3",
      "name": "python3"
    },
    "language_info": {
      "name": "python"
    }
  },
  "nbformat": 4,
  "nbformat_minor": 0
}